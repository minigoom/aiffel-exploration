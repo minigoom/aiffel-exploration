{
 "cells": [
  {
   "cell_type": "code",
   "execution_count": 10,
   "id": "3a306ad6",
   "metadata": {},
   "outputs": [
    {
     "name": "stdout",
     "output_type": "stream",
     "text": [
      " I can do it\n"
     ]
    }
   ],
   "source": [
    "sent=' I can do it'\n",
    "rep=sent.replace(\"I\",\"You\")\n",
    "print(sent)"
   ]
  },
  {
   "cell_type": "markdown",
   "id": "714db05e",
   "metadata": {},
   "source": [
    "## 정규분포"
   ]
  },
  {
   "cell_type": "code",
   "execution_count": 4,
   "id": "4e5bdb5d",
   "metadata": {},
   "outputs": [
    {
     "data": {
      "text/plain": [
       "'You can do it'"
      ]
     },
     "execution_count": 4,
     "metadata": {},
     "output_type": "execute_result"
    }
   ],
   "source": [
    "import re # 정규표현식 표준 라이브러리인 re 모듈을 import 해셔 정규표현식 사용한다.\n",
    "sent=\"I can do it\"\n",
    "pattern=re.sub(\"I\",\"You\",sent) #compile 찾고자 하는 문자열의 패턴을 정의한다\n",
    "pattern"
   ]
  },
  {
   "cell_type": "code",
   "execution_count": 6,
   "id": "e19ef6c1",
   "metadata": {},
   "outputs": [
    {
     "data": {
      "text/plain": [
       "['the', 'the', 'the']"
      ]
     },
     "execution_count": 6,
     "metadata": {},
     "output_type": "execute_result"
    }
   ],
   "source": [
    "#1단계: \"the\" 라는 패턴을 컴파일 한 후 패턴 객체를 리턴합니다.\n",
    "pattern=re.compile(\"the\")\n",
    "\n",
    "#2단계: 컴파일된 객체를 활용하여 다른 텍스트에서 검색을 수행합니다\n",
    "pattern.findall('of the people, for the people, by the people')"
   ]
  },
  {
   "cell_type": "code",
   "execution_count": 8,
   "id": "f4163686",
   "metadata": {},
   "outputs": [
    {
     "data": {
      "text/plain": [
       "['the', 'the', 'the']"
      ]
     },
     "execution_count": 8,
     "metadata": {},
     "output_type": "execute_result"
    }
   ],
   "source": [
    "re.findall('the','of the people, for the people, by the people')"
   ]
  },
  {
   "cell_type": "markdown",
   "id": "a29e4548",
   "metadata": {},
   "source": [
    "## 메서드"
   ]
  },
  {
   "cell_type": "markdown",
   "id": "95fdfc9a",
   "metadata": {},
   "source": [
    "정규 표현식의 객체를 컴파일했으니 이제 위 2단계에서 패턴 객체를 활용해서 호출 가능한 메서드와 속성을 알아볼 차례입니다. 많이 사용되고 있는 메서드들을 정리해 보았는데요. 한 번 가볍게 살펴봅시다.\n",
    "\n",
    "search() : 일치하는 패턴 찾기 (일치 패턴이 있으면 MatchObject를 반환합니다)\n",
    "match() : search()와 비슷하지만, 처음부터 패턴이 검색 대상과 일치해야 합니다.\n",
    "findall() : 일치하는 모든 패턴 찾기 (모든 일치 패턴을 리스트에 담아서 반환합니다)\n",
    "split() : 패턴으로 나누기\n",
    "sub() : 일치하는 패턴으로 대체하기\n",
    "아래는 search(), match() 등이 리턴하는 MatchObject가 가진 메서드입니다.\n",
    "\n",
    "group() : 실제 결과에 해당하는 문자열을 반환합니다."
   ]
  },
  {
   "cell_type": "code",
   "execution_count": 13,
   "id": "5ec92e8b",
   "metadata": {},
   "outputs": [
    {
     "data": {
      "text/plain": [
       "['1993', '1995', '2019', '2000', '2002', '2013', '2015', '2017']"
      ]
     },
     "execution_count": 13,
     "metadata": {},
     "output_type": "execute_result"
    }
   ],
   "source": [
    "text=\"\"\"\n",
    "The first season of America Premiere League  was played in 1993. \n",
    "The second season was played in 1995 in South Africa. \n",
    "Last season was played in 2019 and won by Chennai Super Kings (CSK).\n",
    "CSK won the title in 2000 and 2002 as well.\n",
    "Mumbai Indians (MI) has also won the title 3 times in 2013, 2015 and 2017.\n",
    "\"\"\"\n",
    "pattern=re.compile(\"[1-2]\\d\\d\\d\")\n",
    "pattern.findall(text)"
   ]
  },
  {
   "cell_type": "code",
   "execution_count": 19,
   "id": "19aae398",
   "metadata": {
    "scrolled": true
   },
   "outputs": [
    {
     "ename": "IndentationError",
     "evalue": "unexpected indent (2354762320.py, line 9)",
     "output_type": "error",
     "traceback": [
      "\u001b[0;36m  File \u001b[0;32m\"/tmp/ipykernel_31/2354762320.py\"\u001b[0;36m, line \u001b[0;32m9\u001b[0m\n\u001b[0;31m    print(phone.group())\u001b[0m\n\u001b[0m    ^\u001b[0m\n\u001b[0;31mIndentationError\u001b[0m\u001b[0;31m:\u001b[0m unexpected indent\n"
     ]
    }
   ],
   "source": [
    "#- 전화번호(숫자, 기호)\n",
    "phonenumber = re.compile(r'\\d\\d\\d-\\d\\d\\d-\\d\\d\\d\\d')\n",
    "phone = phonenumber.search('This is my phone number 010-111-1111')\n",
    "if phone:\n",
    "  print(phone.group())\n",
    "print('------')\n",
    "phone = phonenumber.match ('This is my phone number 010-111-1111')\n",
    "if phone:-11\n",
    "  print(phone.group())"
   ]
  },
  {
   "cell_type": "code",
   "execution_count": 24,
   "id": "118d7926",
   "metadata": {},
   "outputs": [
    {
     "name": "stdout",
     "output_type": "stream",
     "text": [
      "010-111-1111\n",
      "------\n"
     ]
    }
   ],
   "source": [
    "#- 전화번호(숫자, 기호)\n",
    "phonenumber = re.compile(r'\\d\\d\\d-\\d\\d\\d-\\d\\d\\d\\d')\n",
    "phone = phonenumber.search('This is my phone number 010-111-1111')\n",
    "if phone:\n",
    "  print(phone.group())\n",
    "print('------')\n",
    "phone = phonenumber.match ('This is my phone number 010-111-1111')\n",
    "if phone:\n",
    "  print(phone.group())"
   ]
  },
  {
   "cell_type": "code",
   "execution_count": 25,
   "id": "5c7b9df1",
   "metadata": {},
   "outputs": [
    {
     "name": "stdout",
     "output_type": "stream",
     "text": [
      "010-111-1111\n",
      "------\n"
     ]
    }
   ],
   "source": [
    "#- 전화번호(숫자, 기호)\n",
    "phonenumber = re.compile(r'(\\d{3}-){2}\\d{4}')\n",
    "phone = phonenumber.search('This is my phone number 010-111-1111')\n",
    "if phone:\n",
    "  print(phone.group())\n",
    "print('------')\n",
    "phone = phonenumber.match ('This is my phone number 010-111-1111')\n",
    "if phone:\n",
    "  print(phone.group())"
   ]
  },
  {
   "cell_type": "markdown",
   "id": "c5b132ac",
   "metadata": {},
   "source": [
    "## 7-5 파일과 디렉터리(1) 파일"
   ]
  },
  {
   "cell_type": "markdown",
   "id": "8b3c3b9c",
   "metadata": {},
   "source": [
    "지금까지 텍스트 데이터를 문자열로 나타낸 후 변수에 저장했습니다. 변수에 저장되는 데이터는 컴퓨터 메모리에 저장됩니다. 메모리에 저장되는 데이터는 로드 멫 엑세스 속도가 빠르다는 장점이 있지만, 전원이 공급되어야만 데이터가 보존됩니다(메모리에 저장된다) "
   ]
  },
  {
   "cell_type": "markdown",
   "id": "7fb7a807",
   "metadata": {},
   "source": [
    "일상에서 파일은 너무나도 익숙한 존재입니다. 사용자의 중요한 정보가 담긴 파일이 매번 휘발되어 없어지면 안된다. 이런 데이터를 영구적으로 보존할 필요가 있기 때문에 보조 기억장치에 데이터를 저장하는데 그것을 파일이라고 부른다"
   ]
  },
  {
   "cell_type": "markdown",
   "id": "92846820",
   "metadata": {},
   "source": [
    "결론 메모리 --> 보조기억장치인 파일에 저장해야한다"
   ]
  },
  {
   "cell_type": "code",
   "execution_count": 38,
   "id": "15f5e33d",
   "metadata": {},
   "outputs": [
    {
     "name": "stdout",
     "output_type": "stream",
     "text": [
      "완료\n"
     ]
    }
   ],
   "source": [
    "f=open(\"hello.txt\",\"w\")\n",
    "for i in range(10):\n",
    "    f.write(\"안녕\")\n",
    "f.close()\n",
    "print(\"완료\")"
   ]
  },
  {
   "cell_type": "code",
   "execution_count": 39,
   "id": "2a001e9b",
   "metadata": {},
   "outputs": [
    {
     "name": "stdout",
     "output_type": "stream",
     "text": [
      "안녕안녕안녕안녕안녕안녕안녕안녕안녕안녕\n"
     ]
    }
   ],
   "source": [
    "with open(\"hello.txt\",\"r\") as f:#with 구문을 사용해서 파일을 열어서 파일 객체를 f로 받아드린다\n",
    "    print(f.read())"
   ]
  },
  {
   "cell_type": "code",
   "execution_count": 40,
   "id": "a61ae487",
   "metadata": {},
   "outputs": [],
   "source": [
    "quote=[\"\\n안녕하세요.'\\n\",\"반갑습니다.\\n\",\"오랫만입니다.\\n\"]\n",
    "with open(\"hello.txt\",\"a\") as f:\n",
    "    f.writelines(quote)#파일을 한줄 씩 읽는다"
   ]
  },
  {
   "cell_type": "code",
   "execution_count": 50,
   "id": "92379e2b",
   "metadata": {},
   "outputs": [
    {
     "ename": "AttributeError",
     "evalue": "'_io.TextIOWrapper' object has no attribute 'realines'",
     "output_type": "error",
     "traceback": [
      "\u001b[0;31m---------------------------------------------------------------------------\u001b[0m",
      "\u001b[0;31mAttributeError\u001b[0m                            Traceback (most recent call last)",
      "\u001b[0;32m/tmp/ipykernel_31/3716207365.py\u001b[0m in \u001b[0;36m<module>\u001b[0;34m\u001b[0m\n\u001b[1;32m      1\u001b[0m \u001b[0;32mwith\u001b[0m \u001b[0mopen\u001b[0m\u001b[0;34m(\u001b[0m\u001b[0;34m'hello.txt'\u001b[0m\u001b[0;34m,\u001b[0m\u001b[0;34m'r'\u001b[0m\u001b[0;34m)\u001b[0m \u001b[0;32mas\u001b[0m \u001b[0mf\u001b[0m\u001b[0;34m:\u001b[0m\u001b[0;34m\u001b[0m\u001b[0;34m\u001b[0m\u001b[0m\n\u001b[0;32m----> 2\u001b[0;31m     \u001b[0mhello\u001b[0m\u001b[0;34m=\u001b[0m\u001b[0mf\u001b[0m\u001b[0;34m.\u001b[0m\u001b[0mrealines\u001b[0m\u001b[0;34m(\u001b[0m\u001b[0;34m)\u001b[0m\u001b[0;34m\u001b[0m\u001b[0;34m\u001b[0m\u001b[0m\n\u001b[0m\u001b[1;32m      3\u001b[0m     \u001b[0mprint\u001b[0m\u001b[0;34m(\u001b[0m\u001b[0;34mf'위치:{f.tell()}'\u001b[0m\u001b[0;34m)\u001b[0m\u001b[0;34m\u001b[0m\u001b[0;34m\u001b[0m\u001b[0m\n\u001b[1;32m      4\u001b[0m     \u001b[0mprint\u001b[0m\u001b[0;34m(\u001b[0m\u001b[0mhello\u001b[0m\u001b[0;34m)\u001b[0m\u001b[0;34m\u001b[0m\u001b[0;34m\u001b[0m\u001b[0m\n\u001b[1;32m      5\u001b[0m     \u001b[0mprint\u001b[0m\u001b[0;34m(\u001b[0m\u001b[0;34m'----------------'\u001b[0m\u001b[0;34m)\u001b[0m\u001b[0;34m\u001b[0m\u001b[0;34m\u001b[0m\u001b[0m\n",
      "\u001b[0;31mAttributeError\u001b[0m: '_io.TextIOWrapper' object has no attribute 'realines'"
     ]
    }
   ],
   "source": [
    "with open('hello.txt','r') as f:\n",
    "    hello=f.realines()\n",
    "    print(f'위치:{f.tell()}')\n",
    "    print(hello)\n",
    "    print('----------------')\n",
    "    f.seek(10)\n",
    "    print(f'위치:{f.tell()}')"
   ]
  },
  {
   "cell_type": "code",
   "execution_count": 53,
   "id": "2b893e42",
   "metadata": {},
   "outputs": [
    {
     "name": "stdout",
     "output_type": "stream",
     "text": [
      "위치 : 116\n",
      "['안녕안녕안녕안녕안녕안녕안녕안녕안녕안녕\\n', \"안녕하세요.'\\n\", '반갑습니다.\\n', '오랫만입니다.\\n']\n",
      "----------------------------------------------------\n",
      "위치 : 10\n"
     ]
    }
   ],
   "source": [
    "with open('hello.txt', 'r') as f:\n",
    "    hello = f.readlines()\n",
    "    print(f'위치 : {f.tell()}')\n",
    "    print(hello)\n",
    "    print(\"----------------------------------------------------\")\n",
    "    f.seek(10)\n",
    "    print(f'위치 : {f.tell()}')"
   ]
  },
  {
   "cell_type": "markdown",
   "id": "7c869aaf",
   "metadata": {},
   "source": [
    "## 7-6 파일과 디렉터리(2) 디렉터리"
   ]
  },
  {
   "cell_type": "markdown",
   "id": "28d7cfb2",
   "metadata": {},
   "source": [
    "파일을 다룰 때 중요한것이 더 있습니다. 바로 파일이 정장된 위치 입니다. 파일이 어느 폴더(디렉터리)에 저장되어 있는가 매우 중요합니다. "
   ]
  },
  {
   "cell_type": "markdown",
   "id": "6d493f27",
   "metadata": {},
   "source": [
    "리눅스 파일 시스템"
   ]
  },
  {
   "cell_type": "markdown",
   "id": "6bce2d1a",
   "metadata": {},
   "source": [
    "## 7-7 파일과 디렉터리(3) 모듈과 패키지"
   ]
  },
  {
   "cell_type": "markdown",
   "id": "728203a9",
   "metadata": {},
   "source": [
    "파이썬에서 지원하는 디렉터리 관련 표준 라이브러리는 sys,os,glob"
   ]
  },
  {
   "cell_type": "code",
   "execution_count": 55,
   "id": "b5074385",
   "metadata": {},
   "outputs": [
    {
     "data": {
      "text/plain": [
       "'/opt/conda/bin/python'"
      ]
     },
     "execution_count": 55,
     "metadata": {},
     "output_type": "execute_result"
    }
   ],
   "source": [
    "import sys\n",
    "sys.executable"
   ]
  },
  {
   "cell_type": "code",
   "execution_count": 56,
   "id": "b2329bba",
   "metadata": {},
   "outputs": [
    {
     "data": {
      "text/plain": [
       "['/aiffel/aiffel',\n",
       " '/aiffel/storage/package',\n",
       " '/opt/conda/lib/python39.zip',\n",
       " '/opt/conda/lib/python3.9',\n",
       " '/opt/conda/lib/python3.9/lib-dynload',\n",
       " '',\n",
       " '/opt/conda/lib/python3.9/site-packages',\n",
       " '/opt/conda/lib/python3.9/site-packages/IPython/extensions',\n",
       " '/aiffel/.ipython']"
      ]
     },
     "execution_count": 56,
     "metadata": {},
     "output_type": "execute_result"
    }
   ],
   "source": [
    "sys.path"
   ]
  },
  {
   "cell_type": "markdown",
   "id": "327124bb",
   "metadata": {},
   "source": [
    "모듈(module) : 파이썬으로 만든 코드가 들어간 파일 .py\n",
    "\n",
    "패키지(package) : 기능적으로 동일하거나 동일한 결과를 만드는 모듈들의 집합 또는 폴더. 종종 라이브러리라고도 불림\n",
    "라이브러리(library) : 모듈과 패키지의 집합. 패키지보다 포괄적인 개념이나 패키지와 혼용되어 사용되기도 함."
   ]
  },
  {
   "cell_type": "markdown",
   "id": "6852250f",
   "metadata": {},
   "source": [
    "### 7-8 여러가지 파일 포맷 다루기(1) csv 파일"
   ]
  },
  {
   "cell_type": "markdown",
   "id": "fab32a28",
   "metadata": {},
   "source": [
    "csv comma seperated value 약자로, 쉼표로 구분된 파일이다"
   ]
  },
  {
   "cell_type": "code",
   "execution_count": 64,
   "id": "00016ea9",
   "metadata": {},
   "outputs": [
    {
     "name": "stdout",
     "output_type": "stream",
     "text": [
      "슝~\n"
     ]
    }
   ],
   "source": [
    "billboardchart = {\n",
    "  \t\t\t\t 1 : [\"Tho Box\",\"Roddy Ricch\",\"2019-12-19\"],\n",
    "                 2 : [\"Don't Start Now\", \"Dua Lipa\", \"2019-11-01\"],\n",
    "                 3 : [\"Life Is Good\", \"Future Featuring Drake\", \"2020-02-10\"],\n",
    "                 4 : [\"Blinding\", \"The Weeknd\", \"2019-11-29\"],\n",
    "                 5 : [\"Circles\", \"Post Malone\",\"2019-08-30\"]}\n",
    "\n",
    "with open(\"billboardchart.csv\",\"w\") as f:\n",
    "    for i in billboardchart.values():\n",
    "        data = \",\".join(i)\n",
    "        f.write(data+\"\\n\")\n",
    "\n",
    "print(\"슝~\")"
   ]
  },
  {
   "cell_type": "code",
   "execution_count": 65,
   "id": "748af422",
   "metadata": {},
   "outputs": [],
   "source": [
    "import csv\n",
    "\n",
    "header=[\"title\",\"singer\",\"released date\"]\n",
    "\n",
    "with open('billboardchart.csv','r')as inputfile:\n",
    "    with open()"
   ]
  },
  {
   "cell_type": "markdown",
   "id": "ac851c8d",
   "metadata": {},
   "source": [
    "## 7-9 여러가지 파일 포맷 다루기(2)"
   ]
  },
  {
   "cell_type": "markdown",
   "id": "4a0b6078",
   "metadata": {},
   "source": [
    "XML Extensible Markup Languate 의 약자로 다목적 마크업 언어입니다. 마크업 언어를 아주 간단하게 말한다면, 태그라고 불리는 꺽쇠 모양의 갈호로 구분된 언어라고 할 수 있습니다."
   ]
  },
  {
   "cell_type": "markdown",
   "id": "f57c9b5b",
   "metadata": {},
   "source": [
    "XML 파일을 훑어보니 꺾쇠 <글자> 가 정말 많이 보이죠? 이 부분을 태그라고 부릅는데요. 태그는 기본적으로 <태그> 내용</태그> 형태로 구성되어 있지만 속성 값이 포함 될 수도 있습니다\n"
   ]
  },
  {
   "cell_type": "code",
   "execution_count": 67,
   "id": "8df0fd78",
   "metadata": {},
   "outputs": [
    {
     "name": "stdout",
     "output_type": "stream",
     "text": [
      "<Person><name>이펠</name><age>28</age><place>강남</place></Person>\n"
     ]
    }
   ],
   "source": [
    "import xml.etree.ElementTree as ET\n",
    "\n",
    "person = ET.Element(\"Person\")\n",
    "name = ET.Element(\"name\")\n",
    "name.text = \"이펠\"\n",
    "person.append(name)\n",
    "\n",
    "age = ET.Element(\"age\")\n",
    "age.text = \"28\"\n",
    "person.append(age)\n",
    "\n",
    "ET.SubElement(person, 'place').text = '강남'\n",
    "\n",
    "ET.dump(person)\n",
    "\n"
   ]
  },
  {
   "cell_type": "code",
   "execution_count": 68,
   "id": "9c07f0cf",
   "metadata": {},
   "outputs": [
    {
     "name": "stdout",
     "output_type": "stream",
     "text": [
      "<Person id=\"0x0001\"><firstname>이펠</firstname><age>28</age><place>강남</place></Person>\n"
     ]
    }
   ],
   "source": [
    "person.attrib[\"id\"] = \"0x0001\"\n",
    "name.tag = \"firstname\"\n",
    "ET.dump(person)"
   ]
  },
  {
   "cell_type": "code",
   "execution_count": 69,
   "id": "a92157d6",
   "metadata": {},
   "outputs": [
    {
     "name": "stdout",
     "output_type": "stream",
     "text": [
      "<Person id=\"0x0001\"><firstname>이펠</firstname><lastname date=\"2020-03-20\">아</lastname><age>28</age><place>강남</place></Person>\n"
     ]
    }
   ],
   "source": [
    "lastname = ET.Element('lastname', date='2020-03-20')\n",
    "lastname.text = '아'\n",
    "person.insert(1,lastname)\n",
    "ET.dump(person)"
   ]
  },
  {
   "cell_type": "code",
   "execution_count": 71,
   "id": "77ec9444",
   "metadata": {},
   "outputs": [
    {
     "ename": "ValueError",
     "evalue": "list.remove(x): x not in list",
     "output_type": "error",
     "traceback": [
      "\u001b[0;31m---------------------------------------------------------------------------\u001b[0m",
      "\u001b[0;31mValueError\u001b[0m                                Traceback (most recent call last)",
      "\u001b[0;32m/tmp/ipykernel_31/4039287956.py\u001b[0m in \u001b[0;36m<module>\u001b[0;34m\u001b[0m\n\u001b[0;32m----> 1\u001b[0;31m \u001b[0mperson\u001b[0m\u001b[0;34m.\u001b[0m\u001b[0mremove\u001b[0m\u001b[0;34m(\u001b[0m\u001b[0mage\u001b[0m\u001b[0;34m)\u001b[0m\u001b[0;34m\u001b[0m\u001b[0;34m\u001b[0m\u001b[0m\n\u001b[0m",
      "\u001b[0;31mValueError\u001b[0m: list.remove(x): x not in list"
     ]
    }
   ],
   "source": [
    "person.remove(age)"
   ]
  },
  {
   "cell_type": "code",
   "execution_count": 72,
   "id": "d0fa38a3",
   "metadata": {},
   "outputs": [],
   "source": [
    "ET.ElementTree(person).write('person.xml')"
   ]
  },
  {
   "cell_type": "code",
   "execution_count": 73,
   "id": "0ebf3727",
   "metadata": {},
   "outputs": [
    {
     "name": "stdout",
     "output_type": "stream",
     "text": [
      "'22.1.5 prac.ipynb'    hell0,txt,   hellO,txt,\t\t Untitled.ipynb\r\n",
      " billboardchart.csv    hello,txt,   person.xml\r\n",
      "'command mode.ipynb'   hello.txt    rock_scissor_paper\r\n"
     ]
    }
   ],
   "source": [
    "!ls"
   ]
  },
  {
   "cell_type": "code",
   "execution_count": null,
   "id": "31f3d7f3",
   "metadata": {},
   "outputs": [],
   "source": []
  }
 ],
 "metadata": {
  "kernelspec": {
   "display_name": "Python 3 (ipykernel)",
   "language": "python",
   "name": "python3"
  },
  "language_info": {
   "codemirror_mode": {
    "name": "ipython",
    "version": 3
   },
   "file_extension": ".py",
   "mimetype": "text/x-python",
   "name": "python",
   "nbconvert_exporter": "python",
   "pygments_lexer": "ipython3",
   "version": "3.9.7"
  }
 },
 "nbformat": 4,
 "nbformat_minor": 5
}
